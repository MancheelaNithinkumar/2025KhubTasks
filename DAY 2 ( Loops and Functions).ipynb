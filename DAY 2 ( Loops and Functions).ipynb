{
  "nbformat": 4,
  "nbformat_minor": 0,
  "metadata": {
    "colab": {
      "provenance": [],
      "authorship_tag": "ABX9TyO7Ux3mAEO3k6y9h4O9wzQZ",
      "include_colab_link": true
    },
    "kernelspec": {
      "name": "python3",
      "display_name": "Python 3"
    },
    "language_info": {
      "name": "python"
    }
  },
  "cells": [
    {
      "cell_type": "markdown",
      "metadata": {
        "id": "view-in-github",
        "colab_type": "text"
      },
      "source": [
        "<a href=\"https://colab.research.google.com/github/MancheelaNithinkumar/2025KhubTasks/blob/main/DAY%202%20(%20Loops%20and%20Functions).ipynb\" target=\"_parent\"><img src=\"https://colab.research.google.com/assets/colab-badge.svg\" alt=\"Open In Colab\"/></a>"
      ]
    },
    {
      "cell_type": "markdown",
      "source": [
        "**DAY 2**\n",
        "\n",
        "\n",
        "\n",
        "Loops and functions\n",
        "complete the topics by following the your own resources or resource provided here\n",
        "\n",
        "🔁 Loops – Main Topics\n",
        "1. for Loop\n",
        "Syntax and usage with range()\n",
        "\n",
        "Iterating over lists, strings, tuples, etc.\n",
        "\n",
        "2. while Loop\n",
        "Repeating code while a condition is true\n",
        "3. Loop Control Statements\n",
        "break – stop the loop\n",
        "\n",
        "continue – skip the current iteration\n",
        "\n",
        "pass – do nothing (used as placeholder)\n",
        "\n",
        "4. Loop with else\n",
        "Executed only if loop completes without break\n",
        "5. Nested Loops\n",
        "Loops inside loops (e.g., for printing patterns)\n",
        "🔧 Functions – Main Topics\n",
        "1. Defining and Calling Functions\n",
        "Using def keyword\n",
        "\n",
        "Understanding return\n",
        "\n",
        "2. Function Arguments\n",
        "Positional\n",
        "\n",
        "Default\n",
        "\n",
        "Keyword\n",
        "\n",
        "*args and **kwargs for variable number of arguments\n",
        "\n",
        "3. Scope of Variables\n",
        "Local vs Global variables\n",
        "\n",
        "global keyword usage\n",
        "\n",
        "4. Lambda Functions\n",
        "Anonymous one-line functions\n",
        "\n",
        "Usage with map(), filter(), etc."
      ],
      "metadata": {
        "id": "GjSCkHKsV3lB"
      }
    },
    {
      "cell_type": "markdown",
      "source": [
        "for loop - Used to repeat a block of code for every item in a sequence (like list, string, range)"
      ],
      "metadata": {
        "id": "SUsY3iWDZ49L"
      }
    },
    {
      "cell_type": "code",
      "source": [
        "for i in range(4):\n",
        "    print(i)"
      ],
      "metadata": {
        "colab": {
          "base_uri": "https://localhost:8080/"
        },
        "id": "xICtaPnuaGyA",
        "outputId": "e2a6a3bf-98d9-4cac-8374-ab62baa6748f"
      },
      "execution_count": 2,
      "outputs": [
        {
          "output_type": "stream",
          "name": "stdout",
          "text": [
            "0\n",
            "1\n",
            "2\n",
            "3\n"
          ]
        }
      ]
    },
    {
      "cell_type": "code",
      "source": [
        "for letter in \"Nithin\":\n",
        "    print(letter)"
      ],
      "metadata": {
        "colab": {
          "base_uri": "https://localhost:8080/"
        },
        "id": "73VF85HhaVkd",
        "outputId": "5966247d-b0ac-4c46-a0e3-0c13cb0328d5"
      },
      "execution_count": 3,
      "outputs": [
        {
          "output_type": "stream",
          "name": "stdout",
          "text": [
            "N\n",
            "i\n",
            "t\n",
            "h\n",
            "i\n",
            "n\n"
          ]
        }
      ]
    },
    {
      "cell_type": "code",
      "source": [
        "for num in [1, 2, 3]:\n",
        "    print(num)"
      ],
      "metadata": {
        "colab": {
          "base_uri": "https://localhost:8080/"
        },
        "id": "2KIGR4BMab6H",
        "outputId": "8297263a-3e6a-4b3e-c294-add579b9efb9"
      },
      "execution_count": 5,
      "outputs": [
        {
          "output_type": "stream",
          "name": "stdout",
          "text": [
            "1\n",
            "2\n",
            "3\n"
          ]
        }
      ]
    },
    {
      "cell_type": "markdown",
      "source": [
        "while Loop - Repeats code as long as the condition is True."
      ],
      "metadata": {
        "id": "cjvApyTlajML"
      }
    },
    {
      "cell_type": "code",
      "source": [
        "\n",
        "i = 1\n",
        "while i <= 6:\n",
        "    print(i)\n",
        "    i += 1"
      ],
      "metadata": {
        "colab": {
          "base_uri": "https://localhost:8080/"
        },
        "id": "__0-Pa5Jaj5Q",
        "outputId": "766d3344-36db-46a6-e755-9293367eef4d"
      },
      "execution_count": 7,
      "outputs": [
        {
          "output_type": "stream",
          "name": "stdout",
          "text": [
            "1\n",
            "2\n",
            "3\n",
            "4\n",
            "5\n",
            "6\n"
          ]
        }
      ]
    },
    {
      "cell_type": "code",
      "source": [
        "n = 3\n",
        "while n > 0:\n",
        "    print(\"hello world\")\n",
        "    n -= 1"
      ],
      "metadata": {
        "colab": {
          "base_uri": "https://localhost:8080/"
        },
        "id": "XWuXUESRayr_",
        "outputId": "3d413b04-9ee2-47e5-d112-b9cfac6de3bb"
      },
      "execution_count": 9,
      "outputs": [
        {
          "output_type": "stream",
          "name": "stdout",
          "text": [
            "hello world\n",
            "hello world\n",
            "hello world\n"
          ]
        }
      ]
    },
    {
      "cell_type": "markdown",
      "source": [
        "break - Stops the loop completely."
      ],
      "metadata": {
        "id": "hlR8g6zgbElm"
      }
    },
    {
      "cell_type": "code",
      "source": [
        "for i in range(7):\n",
        "    if i == 6:\n",
        "        break\n",
        "    print(i)"
      ],
      "metadata": {
        "colab": {
          "base_uri": "https://localhost:8080/"
        },
        "id": "NLG691MGbYAi",
        "outputId": "a670573a-1807-4b5d-b668-6154fcdb03f2"
      },
      "execution_count": 15,
      "outputs": [
        {
          "output_type": "stream",
          "name": "stdout",
          "text": [
            "0\n",
            "1\n",
            "2\n",
            "3\n",
            "4\n",
            "5\n"
          ]
        }
      ]
    },
    {
      "cell_type": "code",
      "source": [
        "while True:\n",
        "    print(\"Running\")\n",
        "    break"
      ],
      "metadata": {
        "colab": {
          "base_uri": "https://localhost:8080/"
        },
        "id": "YTr2dUBUbqM8",
        "outputId": "a810f641-d1b7-46d6-9282-4030136afacb"
      },
      "execution_count": 16,
      "outputs": [
        {
          "output_type": "stream",
          "name": "stdout",
          "text": [
            "Running\n"
          ]
        }
      ]
    },
    {
      "cell_type": "markdown",
      "source": [
        "continue - Skips the current iteration and goes to the next."
      ],
      "metadata": {
        "id": "p9hpyHb4bv8i"
      }
    },
    {
      "cell_type": "code",
      "source": [
        "for i in range(5):\n",
        "    if i == 2:\n",
        "        continue\n",
        "    print(i)"
      ],
      "metadata": {
        "colab": {
          "base_uri": "https://localhost:8080/"
        },
        "id": "8Y_hUy4xbybW",
        "outputId": "046d7249-4538-4d84-85ac-1143137f2db1"
      },
      "execution_count": 17,
      "outputs": [
        {
          "output_type": "stream",
          "name": "stdout",
          "text": [
            "0\n",
            "1\n",
            "3\n",
            "4\n"
          ]
        }
      ]
    },
    {
      "cell_type": "code",
      "source": [
        "i = 0\n",
        "while i < 4:\n",
        "    i += 1\n",
        "    if i == 3:\n",
        "        continue\n",
        "    print(i)"
      ],
      "metadata": {
        "colab": {
          "base_uri": "https://localhost:8080/"
        },
        "id": "vYWHmwIMcGOi",
        "outputId": "4b897f5b-0cb0-4444-88ec-ec99b4df4ae6"
      },
      "execution_count": 18,
      "outputs": [
        {
          "output_type": "stream",
          "name": "stdout",
          "text": [
            "1\n",
            "2\n",
            "4\n"
          ]
        }
      ]
    },
    {
      "cell_type": "markdown",
      "source": [
        "pass - Does nothing. Used as a placeholder."
      ],
      "metadata": {
        "id": "Go2mMq9ecOlP"
      }
    },
    {
      "cell_type": "code",
      "source": [
        "for i in range(3):\n",
        "    pass\n",
        "print(i)"
      ],
      "metadata": {
        "colab": {
          "base_uri": "https://localhost:8080/"
        },
        "id": "8kiRMTG9cP86",
        "outputId": "578462cd-91d3-4bae-b81c-be0611e6a6c7"
      },
      "execution_count": 19,
      "outputs": [
        {
          "output_type": "stream",
          "name": "stdout",
          "text": [
            "2\n"
          ]
        }
      ]
    },
    {
      "cell_type": "code",
      "source": [
        "x = 10\n",
        "if x > 5:\n",
        "    pass\n",
        "print(x)"
      ],
      "metadata": {
        "colab": {
          "base_uri": "https://localhost:8080/"
        },
        "id": "uMTCTSpYcXbA",
        "outputId": "175757ae-0ee6-4158-f74e-ec90d3e4dc66"
      },
      "execution_count": 20,
      "outputs": [
        {
          "output_type": "stream",
          "name": "stdout",
          "text": [
            "10\n"
          ]
        }
      ]
    },
    {
      "cell_type": "markdown",
      "source": [
        "Loop with else - else runs only when the loop finishes normally (no break)"
      ],
      "metadata": {
        "id": "jXcggj_scm5L"
      }
    },
    {
      "cell_type": "code",
      "source": [
        "for i in range(3):\n",
        "    print(i)\n",
        "else:\n",
        "    print(\"Loop finished\")"
      ],
      "metadata": {
        "colab": {
          "base_uri": "https://localhost:8080/"
        },
        "id": "hjQohf9ecn_A",
        "outputId": "5634c040-81a7-4893-bf4f-fbb419c948b4"
      },
      "execution_count": 21,
      "outputs": [
        {
          "output_type": "stream",
          "name": "stdout",
          "text": [
            "0\n",
            "1\n",
            "2\n",
            "Loop finished\n"
          ]
        }
      ]
    },
    {
      "cell_type": "code",
      "source": [
        "i = 0\n",
        "while i < 3:\n",
        "    print(i)\n",
        "    i += 1\n",
        "else:\n",
        "    print(\"While loop done\")"
      ],
      "metadata": {
        "colab": {
          "base_uri": "https://localhost:8080/"
        },
        "id": "POArvFRDcz-E",
        "outputId": "0834b18c-afdb-4a94-f810-3577a9f8d4d0"
      },
      "execution_count": 22,
      "outputs": [
        {
          "output_type": "stream",
          "name": "stdout",
          "text": [
            "0\n",
            "1\n",
            "2\n",
            "While loop done\n"
          ]
        }
      ]
    },
    {
      "cell_type": "markdown",
      "source": [
        "Nested Loops - A loop inside another loop. Used for patterns or matrix-like structures."
      ],
      "metadata": {
        "id": "aLpZ9qnsc4yn"
      }
    },
    {
      "cell_type": "code",
      "source": [
        "for i in range(2):\n",
        "    for j in range(3):\n",
        "        print(i, j)"
      ],
      "metadata": {
        "colab": {
          "base_uri": "https://localhost:8080/"
        },
        "id": "1dG8q8k4c6C2",
        "outputId": "f6fc218e-6290-41ee-dba3-22ff2eed5118"
      },
      "execution_count": 23,
      "outputs": [
        {
          "output_type": "stream",
          "name": "stdout",
          "text": [
            "0 0\n",
            "0 1\n",
            "0 2\n",
            "1 0\n",
            "1 1\n",
            "1 2\n"
          ]
        }
      ]
    },
    {
      "cell_type": "code",
      "source": [
        "for row in range(1, 4):\n",
        "    for col in range(1, row + 1):\n",
        "        print(\"*\", end=\" \")\n",
        "    print()"
      ],
      "metadata": {
        "colab": {
          "base_uri": "https://localhost:8080/"
        },
        "id": "oMD-_ub2dB37",
        "outputId": "96b3928e-b782-4a0d-c696-2e19013e14e8"
      },
      "execution_count": 24,
      "outputs": [
        {
          "output_type": "stream",
          "name": "stdout",
          "text": [
            "* \n",
            "* * \n",
            "* * * \n"
          ]
        }
      ]
    },
    {
      "cell_type": "markdown",
      "source": [
        "**Functions**\n",
        "\n",
        "Defining and Calling Functions\n",
        "Functions are blocks of code that run when you call them. Defined using the def keyword.\n",
        "return is used to send a value back from the function."
      ],
      "metadata": {
        "id": "xorMLaoQdYkV"
      }
    },
    {
      "cell_type": "code",
      "source": [
        "def greet():\n",
        "    print(\"Hello\")\n",
        "\n",
        "greet()"
      ],
      "metadata": {
        "colab": {
          "base_uri": "https://localhost:8080/"
        },
        "id": "9BMlNhXrdjPQ",
        "outputId": "e4eeca1c-5d87-42e7-c776-aacc995948ed"
      },
      "execution_count": 25,
      "outputs": [
        {
          "output_type": "stream",
          "name": "stdout",
          "text": [
            "Hello\n"
          ]
        }
      ]
    },
    {
      "cell_type": "code",
      "source": [
        "def add(a, b):\n",
        "    return a + b\n",
        "\n",
        "result = add(3, 4)\n",
        "print(result)"
      ],
      "metadata": {
        "colab": {
          "base_uri": "https://localhost:8080/"
        },
        "id": "TA2-p2Yudtna",
        "outputId": "d30a7f8e-6e06-4fbb-fdb5-1bb75b911def"
      },
      "execution_count": 26,
      "outputs": [
        {
          "output_type": "stream",
          "name": "stdout",
          "text": [
            "7\n"
          ]
        }
      ]
    },
    {
      "cell_type": "markdown",
      "source": [
        "Function Arguments\n",
        "Positional Arguments - Arguments passed in the correct order."
      ],
      "metadata": {
        "id": "8VXFa5Mid5AR"
      }
    },
    {
      "cell_type": "code",
      "source": [
        "def subtract(a, b):\n",
        "    return a - b\n",
        "\n",
        "print(subtract(10, 5))"
      ],
      "metadata": {
        "colab": {
          "base_uri": "https://localhost:8080/"
        },
        "id": "_ZyIq3q_d6TJ",
        "outputId": "98b432f6-2c3e-4879-818a-cdaf6b531c2c"
      },
      "execution_count": 27,
      "outputs": [
        {
          "output_type": "stream",
          "name": "stdout",
          "text": [
            "5\n"
          ]
        }
      ]
    },
    {
      "cell_type": "code",
      "source": [
        "def greet(name=\"Guest\"):\n",
        "    print(\"Hello\", name)\n",
        "\n",
        "greet(\"Nithin\")\n",
        "greet()"
      ],
      "metadata": {
        "colab": {
          "base_uri": "https://localhost:8080/"
        },
        "id": "lNiXhyBceEhw",
        "outputId": "342a7a96-23e9-499d-aad7-15b9ce44fe86"
      },
      "execution_count": 29,
      "outputs": [
        {
          "output_type": "stream",
          "name": "stdout",
          "text": [
            "Hello Nithin\n",
            "Hello Guest\n"
          ]
        }
      ]
    }
  ]
}