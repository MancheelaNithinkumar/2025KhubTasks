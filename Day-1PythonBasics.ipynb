{
  "nbformat": 4,
  "nbformat_minor": 0,
  "metadata": {
    "colab": {
      "provenance": [],
      "include_colab_link": true
    },
    "kernelspec": {
      "name": "python3",
      "display_name": "Python 3"
    },
    "language_info": {
      "name": "python"
    }
  },
  "cells": [
    {
      "cell_type": "markdown",
      "metadata": {
        "id": "view-in-github",
        "colab_type": "text"
      },
      "source": [
        "<a href=\"https://colab.research.google.com/github/MancheelaNithinkumar/2025KhubTasks/blob/main/Day-1PythonBasics.ipynb\" target=\"_parent\"><img src=\"https://colab.research.google.com/assets/colab-badge.svg\" alt=\"Open In Colab\"/></a>"
      ]
    },
    {
      "cell_type": "markdown",
      "source": [
        "**DAY - 1**\n",
        "\n",
        "Python Basics\n",
        "\n",
        "complete the below subtopics by your own resources or the resource provided by us.\n",
        "\n",
        "topics :- \\\n",
        "\n",
        "1) strings and string methods, booleans, and operators\n",
        "\n",
        "2) list, tuples, sets and dictionaries\n",
        "\n",
        "3) conditional Statements\n",
        "\n",
        "4) Match Case\n",
        "\n"
      ],
      "metadata": {
        "id": "NYLOSsxQUR1p"
      }
    },
    {
      "cell_type": "markdown",
      "source": [
        "**Strings**\n",
        "\n",
        "\n",
        "\n",
        "*   Strings in python are surrounded by either single quotation marks, or double quotation marks.\n",
        "\n",
        "You can display a string literal with the print() function:"
      ],
      "metadata": {
        "id": "qnOX5hBzcLJ-"
      }
    },
    {
      "cell_type": "code",
      "source": [
        "print(\"Nithin\")\n",
        "print('Nithin')"
      ],
      "metadata": {
        "colab": {
          "base_uri": "https://localhost:8080/"
        },
        "id": "M_1s25N7cvHU",
        "outputId": "7827e964-78b1-4262-e1b3-538d706d8a9a"
      },
      "execution_count": null,
      "outputs": [
        {
          "output_type": "stream",
          "name": "stdout",
          "text": [
            "Nithin\n",
            "Nithin\n"
          ]
        }
      ]
    },
    {
      "cell_type": "markdown",
      "source": [
        "**Assign String to a Variable**\n",
        "\n",
        "Assigning a string to a variable is done with the variable name followed by an equal sign and the string:"
      ],
      "metadata": {
        "id": "kxdBpGb8d8tr"
      }
    },
    {
      "cell_type": "code",
      "source": [
        "a = \"Hello World\"\n",
        "print(a)"
      ],
      "metadata": {
        "colab": {
          "base_uri": "https://localhost:8080/"
        },
        "id": "M0lyB03JeKe1",
        "outputId": "3973391e-6854-4ce8-8f74-a5790cdffe7b"
      },
      "execution_count": null,
      "outputs": [
        {
          "output_type": "stream",
          "name": "stdout",
          "text": [
            "Hello World\n"
          ]
        }
      ]
    },
    {
      "cell_type": "markdown",
      "source": [
        "**Multiline Strings**\n",
        "\n",
        "You can assign a multiline string to a variable by using three quotes:\n",
        "\n"
      ],
      "metadata": {
        "id": "Ax8gM6pqerzf"
      }
    },
    {
      "cell_type": "code",
      "source": [
        "b = \"\"\" This\n",
        "is\n",
        "multiline\n",
        "string \"\"\"\n",
        "\n",
        "print(b)"
      ],
      "metadata": {
        "colab": {
          "base_uri": "https://localhost:8080/"
        },
        "id": "v2DUbdyqfO9v",
        "outputId": "67932741-3ba7-4ffd-ba7b-e5a87b454af5"
      },
      "execution_count": null,
      "outputs": [
        {
          "output_type": "stream",
          "name": "stdout",
          "text": [
            " This \n",
            "is \n",
            "multiline\n",
            "string \n"
          ]
        }
      ]
    },
    {
      "cell_type": "markdown",
      "source": [
        "**Strings are Arrays**\n",
        "\n",
        "\n",
        "\n",
        "*   Strings in Python use zero-based indexing, meaning the first character is at position 0, the second at position 1, and so on.\n",
        "*   Square brackets can be used to access elements of the string\n",
        "\n"
      ],
      "metadata": {
        "id": "JrezG9NskNwy"
      }
    },
    {
      "cell_type": "code",
      "source": [
        "a = \"Hello, World!\"\n",
        "print(a[2])\n"
      ],
      "metadata": {
        "colab": {
          "base_uri": "https://localhost:8080/"
        },
        "id": "3iOJe8Afllfl",
        "outputId": "a7b5753a-dec4-41d1-f59f-9f8266ef299b"
      },
      "execution_count": null,
      "outputs": [
        {
          "output_type": "stream",
          "name": "stdout",
          "text": [
            "l\n"
          ]
        }
      ]
    },
    {
      "cell_type": "markdown",
      "source": [
        "**Looping Through a String**\n",
        "\n",
        "*   Strings are iterable — you can loop over them character by character.\n",
        "\n",
        "This is possible because strings in Python are sequence types (like lists and tuples).\n",
        "\n",
        "Each print(x) prints one character on its own line.\n",
        "\n",
        "\n",
        "\n",
        "\n",
        "\n"
      ],
      "metadata": {
        "id": "NOJ3ZF87l__f"
      }
    },
    {
      "cell_type": "code",
      "source": [
        "for x in \"banana\":\n",
        "  print(x)"
      ],
      "metadata": {
        "colab": {
          "base_uri": "https://localhost:8080/"
        },
        "id": "Kke6LnusoIji",
        "outputId": "df4038ad-f796-416f-c2ad-886ae15729c6"
      },
      "execution_count": null,
      "outputs": [
        {
          "output_type": "stream",
          "name": "stdout",
          "text": [
            "b\n",
            "a\n",
            "n\n",
            "a\n",
            "n\n",
            "a\n"
          ]
        }
      ]
    },
    {
      "cell_type": "markdown",
      "source": [
        "**Explanation:**\n",
        "\n",
        "The string \"banana\" is a sequence of characters.\n",
        "\n",
        "The for loop iterates one character at a time through the string.\n",
        "\n",
        "On each iteration, the variable x holds the current character.\n",
        "\n",
        "print(x) prints that character on a new line.\n",
        "\n",
        "\n",
        "\n"
      ],
      "metadata": {
        "id": "XnIWmdaYoQ9w"
      }
    },
    {
      "cell_type": "markdown",
      "source": [
        "**String Length**\n",
        "\n",
        "* To get the length of a string, use the len() function.\n",
        "\n",
        "* The function len() returns the number of characters in the string, including:\n",
        "\n",
        " Letters\n",
        "\n",
        " Punctuation\n",
        "\n",
        " Spaces"
      ],
      "metadata": {
        "id": "ndU-WHcho78l"
      }
    },
    {
      "cell_type": "markdown",
      "source": [],
      "metadata": {
        "id": "KjEIkUHQpwfa"
      }
    },
    {
      "cell_type": "code",
      "source": [
        "a = \"Hello, World!\"\n",
        "print(len(a))"
      ],
      "metadata": {
        "colab": {
          "base_uri": "https://localhost:8080/"
        },
        "id": "b9jGxSDupw2b",
        "outputId": "a6c8d9de-267c-4613-a901-40e8dd0c0338"
      },
      "execution_count": null,
      "outputs": [
        {
          "output_type": "stream",
          "name": "stdout",
          "text": [
            "13\n"
          ]
        }
      ]
    },
    {
      "cell_type": "markdown",
      "source": [
        "len() works on many sequence types in Python:\n",
        "\n",
        "Strings → len(\"hi\") → 2\n",
        "\n",
        "Lists → len([1, 2, 3]) → 3\n",
        "\n",
        "Tuples → len((10, 20)) → 2"
      ],
      "metadata": {
        "id": "9xj0CB-8p8RX"
      }
    },
    {
      "cell_type": "markdown",
      "source": [
        "**Check String**\n",
        "\n",
        "To check if a certain phrase or character is present in a string, we can use the keyword in."
      ],
      "metadata": {
        "id": "cGoWIWOSqazZ"
      }
    },
    {
      "cell_type": "code",
      "source": [
        "txt = \"The best things in life are free!\"\n",
        "print(\"free\" in txt)"
      ],
      "metadata": {
        "colab": {
          "base_uri": "https://localhost:8080/"
        },
        "id": "9ciALCTsqbIa",
        "outputId": "526f625e-0f80-4258-8521-b7266b5d165b"
      },
      "execution_count": null,
      "outputs": [
        {
          "output_type": "stream",
          "name": "stdout",
          "text": [
            "True\n"
          ]
        }
      ]
    },
    {
      "cell_type": "code",
      "source": [
        "txt = \"The best things in life are free!\"\n",
        "print(\"freee\" in txt)"
      ],
      "metadata": {
        "colab": {
          "base_uri": "https://localhost:8080/"
        },
        "id": "dNpaJE9Hqd8p",
        "outputId": "6ac33cdc-7215-4df6-dbeb-b034a6756a8c"
      },
      "execution_count": null,
      "outputs": [
        {
          "output_type": "stream",
          "name": "stdout",
          "text": [
            "False\n"
          ]
        }
      ]
    },
    {
      "cell_type": "markdown",
      "source": [
        "**Use it in an if statement:**"
      ],
      "metadata": {
        "id": "C1Jiz-S0shBJ"
      }
    },
    {
      "cell_type": "code",
      "source": [
        "txt = \"The best things in life are free!\"\n",
        "if \"free\" in txt:\n",
        "  print(\"Yes, 'free' is present.\")"
      ],
      "metadata": {
        "colab": {
          "base_uri": "https://localhost:8080/"
        },
        "id": "YiWl6Fp-snSz",
        "outputId": "d40381f6-92b0-4c80-a05d-36b1fbd06214"
      },
      "execution_count": null,
      "outputs": [
        {
          "output_type": "stream",
          "name": "stdout",
          "text": [
            "Yes, 'free' is present.\n"
          ]
        }
      ]
    },
    {
      "cell_type": "markdown",
      "source": [
        "**Check if NOT**\n",
        "\n",
        "To check if a certain phrase or character is NOT present in a string, we can use the keyword not in."
      ],
      "metadata": {
        "id": "pSkfaTA_tjJ9"
      }
    },
    {
      "cell_type": "code",
      "source": [
        "txt = \"The best things in life are free!\"\n",
        "print(\"freee\" not in txt)"
      ],
      "metadata": {
        "colab": {
          "base_uri": "https://localhost:8080/"
        },
        "id": "FFC1yEiRtrv3",
        "outputId": "b5f50e79-10e7-4041-bee6-f8b23c0e0bbe"
      },
      "execution_count": null,
      "outputs": [
        {
          "output_type": "stream",
          "name": "stdout",
          "text": [
            "True\n"
          ]
        }
      ]
    },
    {
      "cell_type": "markdown",
      "source": [
        "Use it in an if statement:"
      ],
      "metadata": {
        "id": "03niPgocubf8"
      }
    },
    {
      "cell_type": "code",
      "source": [
        "txt = \"The best things in life are free!\"\n",
        "if \"freee\" not in txt:\n",
        "  print(\"No, 'freee' is NOT present.\")"
      ],
      "metadata": {
        "colab": {
          "base_uri": "https://localhost:8080/"
        },
        "id": "5SZGoa2ZuhpZ",
        "outputId": "c961aee0-4352-4465-b793-1cf22ac67bff"
      },
      "execution_count": null,
      "outputs": [
        {
          "output_type": "stream",
          "name": "stdout",
          "text": [
            "No, 'freee' is NOT present.\n"
          ]
        }
      ]
    },
    {
      "cell_type": "markdown",
      "source": [
        "**Slicing**\n",
        "\n",
        "\n",
        "*   You can return a range of characters by using the slice syntax.\n",
        "\n",
        "Specify the start index and the end index, separated by a colon, to return a part of the string.\n",
        "\n",
        "\n",
        "\n"
      ],
      "metadata": {
        "id": "jlkOOCa9I3mR"
      }
    },
    {
      "cell_type": "code",
      "source": [
        "b = \"Hello, World!\"\n",
        "print(b[2:5])"
      ],
      "metadata": {
        "colab": {
          "base_uri": "https://localhost:8080/"
        },
        "id": "M3H6Ybn5MFcX",
        "outputId": "64e54728-82c3-42f7-985d-ef12caaeb9fd"
      },
      "execution_count": null,
      "outputs": [
        {
          "output_type": "stream",
          "name": "stdout",
          "text": [
            "llo\n"
          ]
        }
      ]
    },
    {
      "cell_type": "markdown",
      "source": [
        "Note: The first character has index 0.\n"
      ],
      "metadata": {
        "id": "hWmqd6kGMLkp"
      }
    },
    {
      "cell_type": "markdown",
      "source": [
        "**Slice From the Start**\n",
        "By leaving out the start index, the range will start at the first character:\n"
      ],
      "metadata": {
        "id": "VXboPF0uMbXg"
      }
    },
    {
      "cell_type": "code",
      "source": [
        "b = \"Hello, World!\"\n",
        "print(b[:5])\n"
      ],
      "metadata": {
        "colab": {
          "base_uri": "https://localhost:8080/"
        },
        "id": "BBOj7m7vMniG",
        "outputId": "2528db03-903e-4d8c-bdac-eb9494d04498"
      },
      "execution_count": null,
      "outputs": [
        {
          "output_type": "stream",
          "name": "stdout",
          "text": [
            "Hello\n"
          ]
        }
      ]
    },
    {
      "cell_type": "markdown",
      "source": [
        "**Slice To the End**\n",
        "\n",
        "By leaving out the end index, the range will go to the end:"
      ],
      "metadata": {
        "id": "ViehHrzKM7ff"
      }
    },
    {
      "cell_type": "code",
      "source": [
        "b = \"Hello, World!\"\n",
        "print(b[2:])"
      ],
      "metadata": {
        "id": "Vf_C4IOsNURx",
        "outputId": "56a91048-604f-4600-8d34-24f9d0ed9771",
        "colab": {
          "base_uri": "https://localhost:8080/"
        }
      },
      "execution_count": null,
      "outputs": [
        {
          "output_type": "stream",
          "name": "stdout",
          "text": [
            "llo, World!\n"
          ]
        }
      ]
    },
    {
      "cell_type": "markdown",
      "source": [
        "**Negative Indexing**\n",
        "\n",
        "Indexing vs Negative Indexing\n",
        "Positive indexing: s[0] → first char, s[1] → second, ..., up to s[len(s)‑1]\n",
        "\n",
        "Negative indexing: s[-1] → last char, s[-2] → second last, and so on, down to s[-len(s)] (the first char)"
      ],
      "metadata": {
        "id": "hIDNoENaSHZO"
      }
    },
    {
      "cell_type": "code",
      "source": [
        "b = \"Hello, World!\"\n",
        "print(b[-5:-2])\n",
        "\n",
        "b = \"Hello, World!\"\n",
        "print(b[-5:])\n",
        "\n",
        "b = \"Hello, World!\"\n",
        "print(b[:-2])\n"
      ],
      "metadata": {
        "colab": {
          "base_uri": "https://localhost:8080/"
        },
        "id": "bDompuCgT93q",
        "outputId": "5f86ca70-de5b-4b90-9edb-365f41129420"
      },
      "execution_count": null,
      "outputs": [
        {
          "output_type": "stream",
          "name": "stdout",
          "text": [
            "orl\n",
            "orld!\n",
            "Hello, Worl\n"
          ]
        }
      ]
    },
    {
      "cell_type": "markdown",
      "source": [
        "**Upper Case**\n",
        "The upper() method returns the string in upper casea = \"Hello, World!\"\n",
        "print(a.upper())"
      ],
      "metadata": {
        "id": "-M3QTvn5VMPH"
      }
    },
    {
      "cell_type": "code",
      "source": [
        "a = \"Hello, World!\"\n",
        "print(a.upper())"
      ],
      "metadata": {
        "colab": {
          "base_uri": "https://localhost:8080/"
        },
        "id": "xAMXpc9vVO__",
        "outputId": "6b2e94f5-813e-4212-e6f6-6643e19ac4fa"
      },
      "execution_count": null,
      "outputs": [
        {
          "output_type": "stream",
          "name": "stdout",
          "text": [
            "HELLO, WORLD!\n"
          ]
        }
      ]
    },
    {
      "cell_type": "markdown",
      "source": [
        "**Lower Case**\n",
        "\n",
        "The lower() method returns the string in lower case:\n"
      ],
      "metadata": {
        "id": "gRonjefkVeD4"
      }
    },
    {
      "cell_type": "code",
      "source": [
        "a = \"Hello, World!\"\n",
        "print(a.lower())"
      ],
      "metadata": {
        "colab": {
          "base_uri": "https://localhost:8080/"
        },
        "id": "T5gwTe73VtCm",
        "outputId": "9118f3ca-5d53-46b6-b9b2-808db60a7de2"
      },
      "execution_count": null,
      "outputs": [
        {
          "output_type": "stream",
          "name": "stdout",
          "text": [
            "hello, world!\n"
          ]
        }
      ]
    },
    {
      "cell_type": "markdown",
      "source": [
        "**Remove Whitespace**\n",
        "\n",
        "Whitespace is the space before and/or after the actual text, and very often you want to remove this space.\n",
        "\n",
        "The strip() method removes any whitespace from the beginning or the end:"
      ],
      "metadata": {
        "id": "QcCMYkqaV1Hn"
      }
    },
    {
      "cell_type": "code",
      "source": [
        "a = \" Hello, World! \"\n",
        "print(a.strip())"
      ],
      "metadata": {
        "colab": {
          "base_uri": "https://localhost:8080/"
        },
        "id": "6Ml-SZbzWDj9",
        "outputId": "590fa954-c9ef-4634-f867-394579219c09"
      },
      "execution_count": null,
      "outputs": [
        {
          "output_type": "stream",
          "name": "stdout",
          "text": [
            "Hello, World!\n"
          ]
        }
      ]
    },
    {
      "cell_type": "markdown",
      "source": [
        "**String Concatenation**\n",
        "\n",
        "To concatenate, or combine, two strings you can use the + operator."
      ],
      "metadata": {
        "id": "XK0jrDJDWOPV"
      }
    },
    {
      "cell_type": "code",
      "source": [
        "a = \"Hello\"\n",
        "b = \"World\"\n",
        "c = a + b\n",
        "print(c)\n"
      ],
      "metadata": {
        "colab": {
          "base_uri": "https://localhost:8080/"
        },
        "id": "NlGZc6wiWhTr",
        "outputId": "618c6b41-256e-42fc-e4f0-8f86e101961a"
      },
      "execution_count": null,
      "outputs": [
        {
          "output_type": "stream",
          "name": "stdout",
          "text": [
            "HelloWorld\n"
          ]
        }
      ]
    },
    {
      "cell_type": "markdown",
      "source": [
        "TO ADD SPACE BETWEEN THEM"
      ],
      "metadata": {
        "id": "MhbSslvwWpJg"
      }
    },
    {
      "cell_type": "code",
      "source": [
        "a = \"Hello\"\n",
        "b = \"World\"\n",
        "c = a + \" \" + b\n",
        "print(c)\n"
      ],
      "metadata": {
        "colab": {
          "base_uri": "https://localhost:8080/"
        },
        "id": "i4IH-POpWxgW",
        "outputId": "7ea0759e-74f5-4c8d-a506-6f311dd88f7c"
      },
      "execution_count": null,
      "outputs": [
        {
          "output_type": "stream",
          "name": "stdout",
          "text": [
            "Hello World\n"
          ]
        }
      ]
    },
    {
      "cell_type": "markdown",
      "source": [
        "**F-Strings**\n",
        "\n",
        "To specify a string as an f-string, simply put an f in front of the string literal, and add curly brackets {} as placeholders for variables and other operations."
      ],
      "metadata": {
        "id": "SIr-UuJqYLgh"
      }
    },
    {
      "cell_type": "code",
      "source": [
        "age = 19\n",
        "txt = f\"My name is NITHN, I am {age}\"\n",
        "print(txt)"
      ],
      "metadata": {
        "colab": {
          "base_uri": "https://localhost:8080/"
        },
        "id": "2W0UHWqNYcDP",
        "outputId": "d0c0018e-01d2-4c6e-fb9c-fd63e4fde5a7"
      },
      "execution_count": null,
      "outputs": [
        {
          "output_type": "stream",
          "name": "stdout",
          "text": [
            "My name is NITHN, I am 19\n"
          ]
        }
      ]
    },
    {
      "cell_type": "markdown",
      "source": [
        "**Placeholders and Modifiers**\n",
        "\n",
        "A placeholder can contain variables, operations, functions, and modifiers to format the value.\n"
      ],
      "metadata": {
        "id": "lQ3zakxuY1gC"
      }
    },
    {
      "cell_type": "code",
      "source": [
        "price = 59\n",
        "txt = f\"The price is {price} dollars\"\n",
        "print(txt)"
      ],
      "metadata": {
        "colab": {
          "base_uri": "https://localhost:8080/"
        },
        "id": "RhC0RMHMZC_p",
        "outputId": "04d5f008-401a-474c-f9fc-bb189ea1e61c"
      },
      "execution_count": null,
      "outputs": [
        {
          "output_type": "stream",
          "name": "stdout",
          "text": [
            "The price is 59 dollars\n"
          ]
        }
      ]
    },
    {
      "cell_type": "markdown",
      "source": [
        "A modifier is included by adding a colon : followed by a legal formatting type, like .2f which means fixed point number with 2 decimals:"
      ],
      "metadata": {
        "id": "D75orfGKZWlb"
      }
    },
    {
      "cell_type": "code",
      "source": [
        "price = 59\n",
        "txt = f\"The price is {price:.2f} dollars\"\n",
        "print(txt)"
      ],
      "metadata": {
        "colab": {
          "base_uri": "https://localhost:8080/"
        },
        "id": "ma24FazPZupq",
        "outputId": "1cea44c3-a781-4472-b927-41ba6704f0ef"
      },
      "execution_count": null,
      "outputs": [
        {
          "output_type": "stream",
          "name": "stdout",
          "text": [
            "The price is 59.00 dollars\n"
          ]
        }
      ]
    },
    {
      "cell_type": "code",
      "source": [
        "#Perform a math operation in the placeholder, and return the result:\n",
        "txt = f\"The price is {20 * 59} dollars\"\n",
        "print(txt)"
      ],
      "metadata": {
        "colab": {
          "base_uri": "https://localhost:8080/"
        },
        "id": "rHtwm9LPaK-w",
        "outputId": "c1dcd067-87f9-4cdb-a135-b2d11e308893"
      },
      "execution_count": null,
      "outputs": [
        {
          "output_type": "stream",
          "name": "stdout",
          "text": [
            "The price is 1180 dollars\n"
          ]
        }
      ]
    },
    {
      "cell_type": "markdown",
      "source": [
        "**Escape Characters**"
      ],
      "metadata": {
        "id": "CmJwqSVo6HKR"
      }
    },
    {
      "cell_type": "code",
      "source": [
        "txt = \"We are the so-called \\\"Vikings\\\" from the north.\"\n",
        "print(txt)\n",
        "\n",
        "txt = 'It\\'s alright.'\n",
        "print(txt)\n",
        "\n",
        "txt = \"This will insert one \\\\ (backslash).\"\n",
        "print(txt)\n",
        "\n",
        "txt = \"Hello\\nWorld!\"\n",
        "print(txt)\n",
        "\n",
        "txt = \"Hello\\rWorld!\"\n",
        "print(txt)\n",
        "\n",
        "txt = \"Hello\\tWorld!\"\n",
        "print(txt)\n",
        "\n",
        "#This example erases one character (backspace):\n",
        "txt = \"Hello \\bWorld!\"\n",
        "print(txt)\n"
      ],
      "metadata": {
        "id": "0ta4Do_96PSI",
        "outputId": "ff4a923d-3e2e-44b7-85c3-47c09526c82d",
        "colab": {
          "base_uri": "https://localhost:8080/"
        }
      },
      "execution_count": 9,
      "outputs": [
        {
          "output_type": "stream",
          "name": "stdout",
          "text": [
            "We are the so-called \"Vikings\" from the north.\n",
            "It's alright.\n",
            "This will insert one \\ (backslash).\n",
            "Hello\n",
            "World!\n",
            "Hello\rWorld!\n",
            "Hello\tWorld!\n",
            "Hello \bWorld!\n"
          ]
        }
      ]
    },
    {
      "cell_type": "markdown",
      "source": [
        "**STRING METHODS**\n"
      ],
      "metadata": {
        "id": "4Cu49zeC-4Gq"
      }
    },
    {
      "cell_type": "code",
      "source": [
        "#capitalize\n",
        "txt = \"hello, and welcome to my world.\"\n",
        "\n",
        "x = txt.capitalize()\n",
        "\n",
        "print (x)\n",
        "\n",
        "#Lower\n",
        "\n",
        "txt = \"Hello my FRIENDS\"\n",
        "\n",
        "x = txt.lower()\n",
        "\n",
        "print(x)\n",
        "\n",
        "\n",
        "#upper\n",
        "\n",
        "txt = \"hello my friends\"\n",
        "\n",
        "x = txt.upper()\n",
        "\n",
        "print(x)\n",
        "\n",
        "#tittle\n",
        "\n",
        "txt = \"Welcome to my world\"\n",
        "\n",
        "x = txt.title()\n",
        "\n",
        "print(x)\n",
        "\n",
        "\n"
      ],
      "metadata": {
        "id": "dVrRbwHi_J3r",
        "outputId": "be472dcd-0a30-4f4a-c40d-ec48a93def5b",
        "colab": {
          "base_uri": "https://localhost:8080/"
        }
      },
      "execution_count": 16,
      "outputs": [
        {
          "output_type": "stream",
          "name": "stdout",
          "text": [
            "Hello, and welcome to my world.\n",
            "hello my friends\n",
            "HELLO MY FRIENDS\n",
            "Welcome To My World\n"
          ]
        }
      ]
    },
    {
      "cell_type": "markdown",
      "source": [
        "**Boolean Values**\n",
        "\n",
        "In programming you often need to know if an expression is True or False.\n",
        "\n",
        "You can evaluate any expression in Python, and get one of two answers, True or False.\n",
        "\n",
        "When you compare two values, the expression is evaluated and Python returns the Boolean answer:"
      ],
      "metadata": {
        "id": "8gGCGi5OAuse"
      }
    },
    {
      "cell_type": "code",
      "source": [
        "print(10 > 9)\n",
        "print(10 == 9)\n",
        "print(10 < 9)\n"
      ],
      "metadata": {
        "id": "cCgOC20SBSOw",
        "outputId": "47493a2e-3345-4eaa-e913-773cca11a682",
        "colab": {
          "base_uri": "https://localhost:8080/"
        }
      },
      "execution_count": 17,
      "outputs": [
        {
          "output_type": "stream",
          "name": "stdout",
          "text": [
            "True\n",
            "False\n",
            "False\n"
          ]
        }
      ]
    },
    {
      "cell_type": "code",
      "source": [
        "a = 200\n",
        "b = 33\n",
        "\n",
        "if b > a:\n",
        "  print(\"b is greater than a\")\n",
        "else:\n",
        "  print(\"b is not greater than a\")"
      ],
      "metadata": {
        "id": "7wCZwDA1Bckg",
        "outputId": "71314acf-24ae-4eaa-d7fc-00c3166a7fc0",
        "colab": {
          "base_uri": "https://localhost:8080/"
        }
      },
      "execution_count": 18,
      "outputs": [
        {
          "output_type": "stream",
          "name": "stdout",
          "text": [
            "b is not greater than a\n"
          ]
        }
      ]
    },
    {
      "cell_type": "markdown",
      "source": [
        "The bool() function allows you to evaluate any value, and give you True or False in return,"
      ],
      "metadata": {
        "id": "5hq40vzdB86Q"
      }
    },
    {
      "cell_type": "code",
      "source": [
        "print(bool(\"Hello\"))\n",
        "print(bool(15))"
      ],
      "metadata": {
        "id": "GH-34NtsCAX1",
        "outputId": "7c3e3a9b-a9a9-4eb3-a822-86b062d836e2",
        "colab": {
          "base_uri": "https://localhost:8080/"
        }
      },
      "execution_count": 19,
      "outputs": [
        {
          "output_type": "stream",
          "name": "stdout",
          "text": [
            "True\n",
            "True\n"
          ]
        }
      ]
    },
    {
      "cell_type": "code",
      "source": [
        "x = \"Hello\"\n",
        "y = 15\n",
        "\n",
        "print(bool(x))\n",
        "print(bool(y))"
      ],
      "metadata": {
        "id": "NewTyi9pCP6A",
        "outputId": "f8b98998-aa4a-4a89-aebf-0e8efa7859af",
        "colab": {
          "base_uri": "https://localhost:8080/"
        }
      },
      "execution_count": 20,
      "outputs": [
        {
          "output_type": "stream",
          "name": "stdout",
          "text": [
            "True\n",
            "True\n"
          ]
        }
      ]
    },
    {
      "cell_type": "code",
      "source": [
        "print(bool(False))\n",
        "print(bool(None))\n",
        "print(bool(0))\n",
        "print(bool(\"\"))\n",
        "print(bool(()))\n",
        "print(bool([]))\n",
        "print(bool({}))"
      ],
      "metadata": {
        "id": "A4rgedssCW8c",
        "outputId": "16b7cdd4-73ea-497b-ba65-123312c24f20",
        "colab": {
          "base_uri": "https://localhost:8080/"
        }
      },
      "execution_count": 21,
      "outputs": [
        {
          "output_type": "stream",
          "name": "stdout",
          "text": [
            "False\n",
            "False\n",
            "False\n",
            "False\n",
            "False\n",
            "False\n",
            "False\n"
          ]
        }
      ]
    },
    {
      "cell_type": "code",
      "source": [
        "def myFunction() :\n",
        "  return True\n",
        "\n",
        "print(myFunction())\n"
      ],
      "metadata": {
        "id": "Y9eJSxaxCoLU",
        "outputId": "1a1865aa-30e0-46e3-8fb1-02e4772f1541",
        "colab": {
          "base_uri": "https://localhost:8080/"
        }
      },
      "execution_count": 22,
      "outputs": [
        {
          "output_type": "stream",
          "name": "stdout",
          "text": [
            "True\n"
          ]
        }
      ]
    },
    {
      "cell_type": "markdown",
      "source": [
        "**OPERATOR**\n"
      ],
      "metadata": {
        "id": "rOKXu1xUDJ3X"
      }
    },
    {
      "cell_type": "code",
      "source": [
        "x = 5\n",
        "y = 3\n",
        "\n",
        "print(x + y)\n",
        "\n",
        "\n",
        "x = 5\n",
        "y = 3\n",
        "\n",
        "print(x - y)\n",
        "\n",
        "x = 5\n",
        "y = 3\n",
        "\n",
        "print(x * y)\n",
        "\n",
        "x = 12\n",
        "y = 3\n",
        "\n",
        "print(x / y)\n",
        "\n",
        "x = 5\n",
        "y = 2\n",
        "\n",
        "print(x % y)\n",
        "\n",
        "\n",
        "x = 5\n",
        "y = 2\n",
        "\n",
        "print(x % y)\n",
        "\n",
        "x = 2\n",
        "y = 5\n",
        "\n",
        "print(x ** y) #same as 2*2*2*2*2\n",
        "\n",
        "x = 15\n",
        "y = 2\n",
        "\n",
        "print(x // y)\n",
        "\n",
        "#the floor division // rounds the result down to the nearest whole number\n"
      ],
      "metadata": {
        "id": "Y_ADY0e0DWRL",
        "outputId": "73c9ff9f-08c8-499a-dd7b-52c8cf5f64a3",
        "colab": {
          "base_uri": "https://localhost:8080/"
        }
      },
      "execution_count": 25,
      "outputs": [
        {
          "output_type": "stream",
          "name": "stdout",
          "text": [
            "8\n",
            "2\n",
            "15\n",
            "4.0\n",
            "1\n",
            "1\n",
            "32\n",
            "7\n"
          ]
        }
      ]
    }
  ]
}