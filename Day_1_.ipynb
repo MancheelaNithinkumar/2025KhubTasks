{
  "nbformat": 4,
  "nbformat_minor": 0,
  "metadata": {
    "colab": {
      "provenance": [],
      "authorship_tag": "ABX9TyMP7TOeTIpeFl6DEwif+3oL",
      "include_colab_link": true
    },
    "kernelspec": {
      "name": "python3",
      "display_name": "Python 3"
    },
    "language_info": {
      "name": "python"
    }
  },
  "cells": [
    {
      "cell_type": "markdown",
      "metadata": {
        "id": "view-in-github",
        "colab_type": "text"
      },
      "source": [
        "<a href=\"https://colab.research.google.com/github/MancheelaNithinkumar/2025KhubTasks/blob/main/Day_1_.ipynb\" target=\"_parent\"><img src=\"https://colab.research.google.com/assets/colab-badge.svg\" alt=\"Open In Colab\"/></a>"
      ]
    },
    {
      "cell_type": "markdown",
      "source": [
        "DAY 1 Tasks"
      ],
      "metadata": {
        "id": "KaNxe5TvSRyN"
      }
    },
    {
      "cell_type": "markdown",
      "source": [
        "OPERATION"
      ],
      "metadata": {
        "id": "OIfjk4aESWtm"
      }
    },
    {
      "cell_type": "code",
      "source": [
        "a, b = 8, 4\n",
        "\n",
        "#  Arithmetic Operators (Math calculations)\n",
        "print(\"Add:\", a + b)\n",
        "print(\"Subtract:\", a - b)\n",
        "print(\"Multiply:\", a * b)\n",
        "print(\"Divide:\", a / b)\n",
        "print(\"Modulus:\", a % b)\n",
        "print(\"Power:\", a ** b)\n",
        "print(\"Floor Division:\", a // b)\n",
        "\n",
        "#  Assignment Operators (Assign values)\n",
        "x = 3\n",
        "x += 3\n",
        "x -= 3\n",
        "x *= 3\n",
        "print(\"x after changes:\", x)\n",
        "\n",
        "#  Comparison Operators (True/False check)\n",
        "print(a == b)\n",
        "print(a != b)\n",
        "print(a > b)\n",
        "print(a < b)\n",
        "print(a >= b)\n",
        "print(a <= b)\n",
        "\n",
        "#  Logical Operators (Combine conditions)\n",
        "print(True and False)\n",
        "print(True or False)\n",
        "print(not True)\n",
        "\n",
        "#  Identity Operators (Same memory?)\n",
        "print(a is b)\n",
        "print(a is not b)\n",
        "\n",
        "# Membership Operators (Value present?)\n",
        "numbers = [1, 2, 3]\n",
        "print(2 in numbers)\n",
        "print(5 not in numbers)\n",
        "\n",
        " #Bitwise Operators (Work on binary numbers)\n",
        "print(a & b)\n",
        "print(a | b)\n",
        "print(a ^ b)\n",
        "print(~a)\n",
        "print(a << 1)\n",
        "print(a >> 1)"
      ],
      "metadata": {
        "colab": {
          "base_uri": "https://localhost:8080/"
        },
        "id": "iaAVKai3SXe_",
        "outputId": "128eec4b-771b-4f93-f000-01b5ce223f98"
      },
      "execution_count": 4,
      "outputs": [
        {
          "output_type": "stream",
          "name": "stdout",
          "text": [
            "Add: 12\n",
            "Subtract: 4\n",
            "Multiply: 32\n",
            "Divide: 2.0\n",
            "Modulus: 0\n",
            "Power: 4096\n",
            "Floor Division: 2\n",
            "x after changes: 9\n",
            "False\n",
            "True\n",
            "True\n",
            "False\n",
            "True\n",
            "False\n",
            "False\n",
            "True\n",
            "False\n",
            "False\n",
            "True\n",
            "True\n",
            "True\n",
            "0\n",
            "12\n",
            "12\n",
            "-9\n",
            "16\n",
            "4\n"
          ]
        }
      ]
    },
    {
      "cell_type": "markdown",
      "source": [
        "LIST"
      ],
      "metadata": {
        "id": "fyboLcDsS-m0"
      }
    },
    {
      "cell_type": "code",
      "source": [
        "\n",
        "# Lists\n",
        "countries = [\"India\", \"USA\", \"Germany\"]\n",
        "print(\"Countries List:\", countries)\n",
        "countries.append(\"Japan\")\n",
        "print(\"After append:\", countries)\n",
        "countries.remove(\"USA\")\n",
        "print(\"After remove:\", countries)\n",
        "print(\"First Country:\", countries[0])"
      ],
      "metadata": {
        "colab": {
          "base_uri": "https://localhost:8080/"
        },
        "id": "oPOCRfwdS_hA",
        "outputId": "edcacdda-5d51-4de2-9565-62fc282dd277"
      },
      "execution_count": 5,
      "outputs": [
        {
          "output_type": "stream",
          "name": "stdout",
          "text": [
            "Countries List: ['India', 'USA', 'Germany']\n",
            "After append: ['India', 'USA', 'Germany', 'Japan']\n",
            "After remove: ['India', 'Germany', 'Japan']\n",
            "First Country: India\n"
          ]
        }
      ]
    },
    {
      "cell_type": "markdown",
      "source": [
        "Tuple"
      ],
      "metadata": {
        "id": "RrATomszTaPX"
      }
    },
    {
      "cell_type": "code",
      "source": [
        "\n",
        "# Tuples\n",
        "animals = (\"cat\", \"dog\", \"elephant\")\n",
        "print(\"Animals Tuple:\", animals)\n",
        "print(\"First Animal:\", animals[0])"
      ],
      "metadata": {
        "colab": {
          "base_uri": "https://localhost:8080/"
        },
        "id": "EoWuMPZ5Taqs",
        "outputId": "e007ed2b-cabb-4262-d881-ce5f324583e0"
      },
      "execution_count": 6,
      "outputs": [
        {
          "output_type": "stream",
          "name": "stdout",
          "text": [
            "Animals Tuple: ('cat', 'dog', 'elephant')\n",
            "First Animal: cat\n"
          ]
        }
      ]
    },
    {
      "cell_type": "markdown",
      "source": [
        "SETS"
      ],
      "metadata": {
        "id": "m7dhRQnCTwQT"
      }
    },
    {
      "cell_type": "code",
      "source": [
        "\n",
        "# Sets\n",
        "cities = {\"Delhi\", \"London\", \"Tokyo\"}\n",
        "print(\"Cities Set:\", cities)\n",
        "cities.add(\"New York\")\n",
        "print(\"After add:\", cities)\n",
        "cities.remove(\"London\")\n",
        "print(\"After remove:\", cities)"
      ],
      "metadata": {
        "colab": {
          "base_uri": "https://localhost:8080/"
        },
        "id": "83N4rGxLTwkO",
        "outputId": "429501bb-c596-45bc-d061-afebfc3ec3fa"
      },
      "execution_count": 7,
      "outputs": [
        {
          "output_type": "stream",
          "name": "stdout",
          "text": [
            "Cities Set: {'Delhi', 'London', 'Tokyo'}\n",
            "After add: {'Delhi', 'London', 'New York', 'Tokyo'}\n",
            "After remove: {'Delhi', 'New York', 'Tokyo'}\n"
          ]
        }
      ]
    },
    {
      "cell_type": "markdown",
      "source": [
        "Dictionaries"
      ],
      "metadata": {
        "id": "o5onURjEUCtH"
      }
    },
    {
      "cell_type": "code",
      "source": [
        "\n",
        "# Dictionaries\n",
        "book = {\"title\": \"Atomic Habits\", \"author\": \"James Clear\"}\n",
        "print(\"Book Data:\", book)\n",
        "print(\"Title:\", book[\"title\"])\n",
        "book[\"author\"] = \"J. Clear\"\n",
        "print(\"Updated Data:\", book)"
      ],
      "metadata": {
        "colab": {
          "base_uri": "https://localhost:8080/"
        },
        "id": "Gm0hEA-gUC8v",
        "outputId": "7c4561de-850d-4ae5-c6a2-27d73560c94f"
      },
      "execution_count": 8,
      "outputs": [
        {
          "output_type": "stream",
          "name": "stdout",
          "text": [
            "Book Data: {'title': 'Atomic Habits', 'author': 'James Clear'}\n",
            "Title: Atomic Habits\n",
            "Updated Data: {'title': 'Atomic Habits', 'author': 'J. Clear'}\n"
          ]
        }
      ]
    },
    {
      "cell_type": "markdown",
      "source": [
        "Match case"
      ],
      "metadata": {
        "id": "Zs4oLIDWURCI"
      }
    },
    {
      "cell_type": "code",
      "source": [
        "day = 7\n",
        "\n",
        "match day:\n",
        "    case 1:\n",
        "        print(\"Monday\")\n",
        "    case 2:\n",
        "        print(\"Tuesday\")\n",
        "    case 3:\n",
        "        print(\"Wednesday\")\n",
        "    case 4:\n",
        "        print(\"Thursday\")\n",
        "    case 5:\n",
        "        print(\"Friday\")\n",
        "    case 6:\n",
        "        print(\"Saturday\")\n",
        "    case 7:\n",
        "        print(\"Sunday\")\n",
        "    case _:\n",
        "        print(\"Error\")"
      ],
      "metadata": {
        "colab": {
          "base_uri": "https://localhost:8080/"
        },
        "id": "3hh5ILXcVOjJ",
        "outputId": "2bbffe44-b9db-40e1-d4ea-bd2fa93a55c5"
      },
      "execution_count": 10,
      "outputs": [
        {
          "output_type": "stream",
          "name": "stdout",
          "text": [
            "Sunday\n"
          ]
        }
      ]
    }
  ]
}